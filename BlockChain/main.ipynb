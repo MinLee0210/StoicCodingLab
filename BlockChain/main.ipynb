{
 "cells": [
  {
   "cell_type": "code",
   "execution_count": 1,
   "metadata": {},
   "outputs": [],
   "source": [
    "import json\n",
    "\n",
    "from node.utils import calculate_hash\n",
    "from datetime import datetime\n",
    "\n",
    "class Block:\n",
    "    def __init__(\n",
    "            self,\n",
    "            timestamp: float,\n",
    "            transaction_data: str,\n",
    "            previous_block=None,\n",
    "    ):\n",
    "        self.transaction_data = transaction_data\n",
    "        self.timestamp = timestamp\n",
    "        self.previous_block = previous_block\n",
    "\n",
    "    @property\n",
    "    def previous_block_cryptographic_hash(self):\n",
    "        previous_block_cryptographic_hash = \"\"\n",
    "        if self.previous_block:\n",
    "            previous_block_cryptographic_hash = self.previous_block.cryptographic_hash\n",
    "        return previous_block_cryptographic_hash\n",
    "\n",
    "    @property\n",
    "    def cryptographic_hash(self) -> str:\n",
    "        block_content = {\n",
    "            \"transaction_data\": self.transaction_data,\n",
    "            \"timestamp\": self.timestamp,\n",
    "            \"previous_block_cryptographic_hash\": self.previous_block_cryptographic_hash\n",
    "        }\n",
    "        block_content_bytes = json.dumps(block_content, indent=2).encode('utf-8')\n",
    "        return calculate_hash(block_content_bytes)"
   ]
  },
  {
   "cell_type": "code",
   "execution_count": 2,
   "metadata": {},
   "outputs": [],
   "source": [
    "from datetime import datetime\n",
    "\n",
    "\n",
    "timestamp_0 = datetime.timestamp(datetime.fromisoformat('2011-11-04 00:05:23.111'))\n",
    "transaction_data_0 = \"Albert,Bertrand,30\"\n",
    "block_0 = Block(\n",
    "    transaction_data=transaction_data_0,\n",
    "    timestamp=timestamp_0\n",
    ")\n",
    "\n",
    "timestamp_1 = datetime.timestamp(datetime.fromisoformat('2011-11-07 00:05:13.222'))\n",
    "transaction_data_1 = \"Albert,Camille,10\"\n",
    "block_1 = Block(\n",
    "    transaction_data=transaction_data_1,\n",
    "    timestamp=timestamp_1,\n",
    "    previous_block=block_0\n",
    ")\n",
    "\n",
    "timestamp_2 = datetime.timestamp(datetime.fromisoformat('2011-11-09 00:11:13.333'))\n",
    "transaction_data_2 = \"Bertrand,Camille,5\"\n",
    "block_2 = Block(\n",
    "    transaction_data=transaction_data_2,\n",
    "    timestamp=timestamp_2,\n",
    "    previous_block=block_1\n",
    ")"
   ]
  }
 ],
 "metadata": {
  "kernelspec": {
   "display_name": "my_torch",
   "language": "python",
   "name": "python3"
  },
  "language_info": {
   "codemirror_mode": {
    "name": "ipython",
    "version": 3
   },
   "file_extension": ".py",
   "mimetype": "text/x-python",
   "name": "python",
   "nbconvert_exporter": "python",
   "pygments_lexer": "ipython3",
   "version": "3.9.13"
  },
  "orig_nbformat": 4
 },
 "nbformat": 4,
 "nbformat_minor": 2
}

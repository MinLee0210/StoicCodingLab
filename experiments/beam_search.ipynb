{
 "cells": [
  {
   "cell_type": "code",
   "execution_count": 1,
   "metadata": {},
   "outputs": [],
   "source": [
    "import numpy as np"
   ]
  },
  {
   "cell_type": "code",
   "execution_count": 9,
   "metadata": {},
   "outputs": [
    {
     "data": {
      "text/plain": [
       "(10, 10)"
      ]
     },
     "execution_count": 9,
     "metadata": {},
     "output_type": "execute_result"
    }
   ],
   "source": [
    "freq_char = np.random.rand(10, 10)\n",
    "freq_char.shape"
   ]
  },
  {
   "cell_type": "code",
   "execution_count": 8,
   "metadata": {},
   "outputs": [
    {
     "data": {
      "text/plain": [
       "{'A': array([0.14088269, 0.63263824, 0.03763757, 0.01478972, 0.08219164,\n",
       "        0.80414358, 0.56096756, 0.95888201, 0.6860909 , 0.13539572]),\n",
       " 'B': array([0.93769791, 0.31510659, 0.5203178 , 0.73579227, 0.92370192,\n",
       "        0.69111563, 0.0486795 , 0.62038258, 0.42356005, 0.12131907]),\n",
       " 'C': array([0.65646434, 0.41944931, 0.90130951, 0.4965274 , 0.26397045,\n",
       "        0.45413302, 0.86716072, 0.89673598, 0.24654354, 0.12735721]),\n",
       " 'D': array([0.44738469, 0.97167838, 0.50083496, 0.07785362, 0.1457721 ,\n",
       "        0.33469483, 0.68308579, 0.72514962, 0.76134153, 0.60226734]),\n",
       " 'E': array([0.88031182, 0.73071178, 0.59350236, 0.10827328, 0.27509147,\n",
       "        0.79288741, 0.37574089, 0.34762555, 0.28489413, 0.1593732 ]),\n",
       " 'F': array([0.53494575, 0.73654771, 0.67607702, 0.82798368, 0.33600297,\n",
       "        0.22709322, 0.52570857, 0.06520107, 0.58991844, 0.7600477 ]),\n",
       " 'G': array([0.41682099, 0.47936824, 0.2966948 , 0.45998951, 0.71490473,\n",
       "        0.5949032 , 0.3403746 , 0.55386938, 0.61303099, 0.24872946]),\n",
       " 'H': array([0.36631678, 0.85910942, 0.48132191, 0.02729003, 0.41688378,\n",
       "        0.18977328, 0.58860627, 0.89744679, 0.69777488, 0.50148614]),\n",
       " 'I': array([0.32958717, 0.02685967, 0.47605014, 0.98211522, 0.73847125,\n",
       "        0.36867377, 0.26893313, 0.85505838, 0.81350412, 0.67225594]),\n",
       " 'J': array([8.46423408e-01, 3.76933591e-01, 7.60759302e-01, 1.64793172e-02,\n",
       "        5.99832263e-01, 2.25708990e-04, 2.67328008e-01, 8.75032247e-01,\n",
       "        4.71162033e-01, 6.28104195e-01])}"
      ]
     },
     "execution_count": 8,
     "metadata": {},
     "output_type": "execute_result"
    }
   ],
   "source": [
    "char = ['A', 'B', 'C', 'D', 'E', 'F', 'G', 'H', 'I', 'J']\n",
    "\n",
    "corpus = {key: value for key, value in zip(char, freq_char)}\n",
    "corpus"
   ]
  },
  {
   "cell_type": "code",
   "execution_count": null,
   "metadata": {},
   "outputs": [],
   "source": [
    "def joint_prob(event, n_gram, space):\n",
    "    chosen_event = space[event]\n",
    "\n",
    "    # Get n highest score after calculating joint probability\n",
    "    joint_prob_space = chosen_event * space\n",
    "    sorted_event = sorted(joint_prob_space, reverse=True)[: n_gram]\n",
    "    index_sorted_event = []\n",
    "    for i in sorted_event:\n",
    "        index = chosen_event.index(i)\n",
    "        index_sorted_event.append(index)\n",
    "\n",
    "    return index_sorted_event"
   ]
  }
 ],
 "metadata": {
  "kernelspec": {
   "display_name": "my_torch",
   "language": "python",
   "name": "python3"
  },
  "language_info": {
   "codemirror_mode": {
    "name": "ipython",
    "version": 3
   },
   "file_extension": ".py",
   "mimetype": "text/x-python",
   "name": "python",
   "nbconvert_exporter": "python",
   "pygments_lexer": "ipython3",
   "version": "3.11.3"
  },
  "orig_nbformat": 4
 },
 "nbformat": 4,
 "nbformat_minor": 2
}
